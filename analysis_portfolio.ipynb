{
 "cells": [
  {
   "cell_type": "markdown",
   "id": "ddbcd9b2",
   "metadata": {},
   "source": [
    "<h1> 🥊 📊 UFC Data Analysis"
   ]
  },
  {
   "cell_type": "markdown",
   "id": "97e8b4c6",
   "metadata": {},
   "source": [
    "Goal of analysis: Which fights stats of a fighter are correlated with wins? <br>\n",
    "Physical stats considered: Knockdowns, takedowns landed, significant strikes, submission attempts. <br>\n",
    "Got data from 2020 onwards because I am more familiar with the modern trends of the sport (Data ends at 30 AUG). "
   ]
  },
  {
   "cell_type": "code",
   "execution_count": null,
   "id": "2c7cb5cb",
   "metadata": {},
   "outputs": [],
   "source": [
    "import numpy as np\n",
    "import pandas as pd\n",
    "import matplotlib.pyplot as plt\n",
    "import seaborn as sns\n",
    "import re\n",
    "\n",
    "\n",
    "sns.set_theme(style=\"whitegrid\", palette=\"pastel\")"
   ]
  },
  {
   "cell_type": "code",
   "execution_count": null,
   "id": "14ed5b3c",
   "metadata": {},
   "outputs": [],
   "source": [
    "event_df = pd.read_csv(\"ufc_data/ufc_event_data.csv\")\n",
    "fighter_df = pd.read_csv(\"ufc_data/ufc_fighters.csv\")"
   ]
  },
  {
   "cell_type": "markdown",
   "id": "e624634a",
   "metadata": {},
   "source": [
    "<h3> Cleaning the Data\n"
   ]
  },
  {
   "cell_type": "code",
   "execution_count": null,
   "id": "15810220",
   "metadata": {},
   "outputs": [],
   "source": [
    "fighter_df = fighter_df.drop([\"Nickname\"], axis=1) \n",
    "\n",
    "fighter_df[\"Fighter Name\"] = fighter_df[\"First Name\"] + \" \" + fighter_df[\"Last Name\"]\n",
    "fighter_df = fighter_df.drop([\"First Name\", \"Last Name\"], axis=1)\n",
    "\n",
    "fighter_df.head(5)"
   ]
  },
  {
   "cell_type": "code",
   "execution_count": null,
   "id": "3d4e1749",
   "metadata": {},
   "outputs": [],
   "source": [
    "event_df[\"Event Date\"] = pd.to_datetime(event_df[\"Event Date\"])\n",
    "\n",
    "event_df = event_df.rename(columns={\n",
    "  \"Event Name\": \"Name\",\n",
    "  \"KD\": \"Knockdowns\",\n",
    "  \"TD\": \"Takedowns Landed\", # Not attempted takedowns\n",
    "  \"Sub\": \"Submission Attempts\",\n",
    "  \"Strikes\": \"Sig Strikes\" # Not total strikes\n",
    "})\n",
    "\n",
    "# separate the fighter1 and fighter2 stuff from the dash. E.g. Fighter1_TD, Fighter2_KD, etc...\n",
    "def separate_endash(string: str):\n",
    "  parts = re.split(r\"-\", string, maxsplit=1)\n",
    "  fighter1_stats = int(parts[0])\n",
    "  fighter2_stats = int(parts[1])\n",
    "  \n",
    "  return fighter1_stats, fighter2_stats\n",
    "\n",
    "for col in (\"Sig Strikes\", \"Takedowns Landed\", \"Submission Attempts\", \"Knockdowns\"):\n",
    "  event_df[f\"Fighter1 {col}\"] = event_df[col].apply(lambda x: separate_endash(x)[0])\n",
    "  event_df[f\"Fighter2 {col}\"] = event_df[col].apply(lambda x: separate_endash(x)[1])\n",
    "\n",
    "event_df = event_df.drop(columns=[\"Sig Strikes\", \"Takedowns Landed\", \"Submission Attempts\", \"Knockdowns\", \"Weight Class\", \"Round\", \"Time\", \"Name\", \"Event Date\"])\n",
    "\n",
    "event_df.dtypes"
   ]
  },
  {
   "cell_type": "code",
   "execution_count": null,
   "id": "7d00eb19",
   "metadata": {},
   "outputs": [],
   "source": [
    "\"\"\"\n",
    "Change \"Fighter1\" to \"Winner\" and \"Fighter2\" to \"Loser\" since i've sorted out the draws and NCs.\n",
    "\"\"\"\n",
    "\n",
    "event_df = event_df[~event_df[\"Result\"].isin([\"Draw\", \"NC\"])]\n",
    "\n",
    "base_dict = {\n",
    "  \"Fighter1\": \"Winner\",\n",
    "  \"Fighter2\": \"Loser\"\n",
    "}\n",
    "\n",
    "stats = [\"\", \"Sig Strikes\", \"Takedowns Landed\", \"Submission Attempts\", \"Knockdowns\"]\n",
    "\n",
    "renaming = {}\n",
    "for fighter, w_or_l in base_dict.items():\n",
    "  for stat in stats:\n",
    "    renaming[f\"{fighter} {stat}\"] = f\"{w_or_l} {stat}\"\n",
    "\n",
    "event_df = event_df.rename(columns=renaming)\n",
    "\n",
    "event_df"
   ]
  },
  {
   "cell_type": "code",
   "execution_count": null,
   "id": "41cbd2f6",
   "metadata": {},
   "outputs": [],
   "source": [
    "event_df.describe()"
   ]
  },
  {
   "cell_type": "markdown",
   "id": "5f5bdaa0",
   "metadata": {},
   "source": [
    "<h3> Analysing and Visualising"
   ]
  },
  {
   "cell_type": "code",
   "execution_count": null,
   "id": "861ff328",
   "metadata": {},
   "outputs": [],
   "source": [
    "col_means = event_df.select_dtypes(include=\"number\").mean()\n",
    "\n",
    "stats = pd.DataFrame({\n",
    "  \"Sig Strikes\": [col_means[\"Winner Sig Strikes\"], col_means[\"Loser Sig Strikes\"]],\n",
    "  \"Takedowns Landed\": [col_means[\"Winner Takedowns Landed\"], col_means[\"Loser Takedowns Landed\"]],\n",
    "  \"Submission Attempts\": [col_means[\"Winner Submission Attempts\"], col_means[\"Loser Submission Attempts\"]],\n",
    "  \"Knockdowns\": [col_means[\"Winner Knockdowns\"], col_means[\"Loser Knockdowns\"]],\n",
    "}, index=[\"Winner\", \"Loser\"])\n",
    "\n",
    "# Plot directly from pandas\n",
    "stats.plot(kind=\"bar\", subplots=True, layout=(2, 2), figsize=(12, 8), legend=False, rot=0)\n",
    "\n",
    "plt.suptitle(\"Fight Stats (Mean): Winner vs Loser\")\n",
    "plt.tight_layout(pad=3)\n",
    "plt.show()\n"
   ]
  },
  {
   "cell_type": "code",
   "execution_count": null,
   "id": "9591438b",
   "metadata": {},
   "outputs": [],
   "source": [
    "\"\"\"\n",
    "How did the fights end?\n",
    "\"\"\"\n",
    "\n",
    "fight_ended_df = pd.read_csv(\"ufc_data/ufc_event_data.csv\")[\"Method\"]\n",
    "\n",
    "replacement_map = {\n",
    "  r\".*KO/TKO.*\": \"KO/TKO\",\n",
    "  r\".*SUB.*\": \"Submission\",\n",
    "  r\".*Overturned.*\": \"Overturned\",\n",
    "  r\".*DEC.*\": \"Decision\"\n",
    "}\n",
    "\n",
    "fight_ended_df = fight_ended_df.replace(replacement_map, regex=True) # also ai generated\n",
    "\n",
    "fight_ended_count = [(fight_ended_df == method).sum() for method in (\"KO/TKO\",\"Submission\", \"Overturned\", \"Decision\")]\n",
    "methods = [value for value in replacement_map.values()]\n",
    "\n",
    "sns.set_theme(style=\"whitegrid\", font=\"Serif\")\n",
    "colors = sns.color_palette('pastel')[0:len(fight_ended_count)]\n",
    "\n",
    "plt.title(\"How A Fight Finished\")\n",
    "plt.pie(fight_ended_count, labels=methods)\n",
    "plt.show()\n"
   ]
  },
  {
   "cell_type": "code",
   "execution_count": null,
   "id": "41dfd67b",
   "metadata": {},
   "outputs": [],
   "source": [
    "\"\"\"\n",
    "Looking at the Submission subset. \n",
    "\"\"\"\n",
    "\n",
    "fight_ended_df = pd.read_csv(\"ufc_data/ufc_event_data.csv\")[\"Method\"] # this is as series not df, so syntax is slightly different\n",
    "\n",
    "def is_submission(series):\n",
    "  subs_list = []\n",
    "  for term in series:\n",
    "    if \"SUB\" in term:\n",
    "      subs_list.append(term)\n",
    "    else: \n",
    "      continue\n",
    "  return subs_list\n",
    "\n",
    "subs = pd.Series(is_submission(fight_ended_df))\n",
    "subs_set = set(subs)\n",
    "subs_num_list = [(fight_ended_df == method).sum() for method in subs_set]\n",
    "new_subs_set = []\n",
    "for element in subs_set:\n",
    "  element = element[4:len(element)]\n",
    "  element = element.replace(\"-\", \" \")\n",
    "  new_subs_set.append(element)\n",
    "\n",
    "\n",
    "plt.title(\"Submission Distribution in UFC (Jan 2020 - Aug 2025)\") \n",
    "plt.pie(subs_num_list, labels=new_subs_set)\n",
    "plt.show() "
   ]
  }
 ],
 "metadata": {
  "kernelspec": {
   "display_name": "Python 3",
   "language": "python",
   "name": "python3"
  },
  "language_info": {
   "name": "python",
   "version": "3.13.5"
  }
 },
 "nbformat": 4,
 "nbformat_minor": 5
}
