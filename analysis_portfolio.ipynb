{
 "cells": [
  {
   "cell_type": "markdown",
   "id": "03839da9",
   "metadata": {},
   "source": [
    "\n",
    "# 🥊📊 UFC Data Analysis — Winner vs Loser (Portfolio Edition)\n",
    "\n",
    "**Goal:** Identify which fight stats correlate with winning.\n",
    "\n",
    "**Scope:** Modern UFC fights (dataset ends at 30 Aug; update instructions included).\n",
    "\n",
    "**Why these stats?**\n",
    "- **Significant Strikes** and **Knockdowns** capture striking dominance.\n",
    "- **Takedowns** and **Submission Attempts** capture grappling control and finishing pressure.\n"
   ]
  },
  {
   "cell_type": "markdown",
   "id": "6d23e1b1",
   "metadata": {},
   "source": [
    "### Setup"
   ]
  },
  {
   "cell_type": "code",
   "execution_count": 157,
   "id": "6a333ac0",
   "metadata": {},
   "outputs": [],
   "source": [
    "import re\n",
    "\n",
    "import pandas as pd\n",
    "import matplotlib.pyplot as plt\n",
    "import seaborn as sns\n",
    "\n",
    "# Display options\n",
    "pd.set_option(\"display.max_columns\", 100)\n",
    "pd.set_option(\"display.width\", 120)\n",
    "\n",
    "# Plot theme\n",
    "sns.set_theme(style=\"whitegrid\")\n"
   ]
  },
  {
   "cell_type": "markdown",
   "id": "9d14d329",
   "metadata": {},
   "source": [
    "### Load Data"
   ]
  },
  {
   "cell_type": "code",
   "execution_count": 158,
   "id": "a03478b8",
   "metadata": {},
   "outputs": [
    {
     "data": {
      "application/vnd.microsoft.datawrangler.viewer.v0+json": {
       "columns": [
        {
         "name": "index",
         "rawType": "int64",
         "type": "integer"
        },
        {
         "name": "Event Name",
         "rawType": "object",
         "type": "string"
        },
        {
         "name": "Event Date",
         "rawType": "object",
         "type": "string"
        },
        {
         "name": "Result",
         "rawType": "object",
         "type": "string"
        },
        {
         "name": "Fighter1",
         "rawType": "object",
         "type": "string"
        },
        {
         "name": "Fighter2",
         "rawType": "object",
         "type": "string"
        },
        {
         "name": "KD",
         "rawType": "object",
         "type": "string"
        },
        {
         "name": "Strikes",
         "rawType": "object",
         "type": "string"
        },
        {
         "name": "TD",
         "rawType": "object",
         "type": "string"
        },
        {
         "name": "Sub",
         "rawType": "object",
         "type": "string"
        },
        {
         "name": "Weight Class",
         "rawType": "object",
         "type": "string"
        },
        {
         "name": "Method",
         "rawType": "object",
         "type": "string"
        },
        {
         "name": "Round",
         "rawType": "int64",
         "type": "integer"
        },
        {
         "name": "Time",
         "rawType": "object",
         "type": "string"
        }
       ],
       "ref": "904b6310-b79d-43a8-8fea-043aa3c34ce1",
       "rows": [
        [
         "0",
         "UFC Fight Night: Walker vs. Zhang",
         "August 23, 2025",
         "Johnny Walker",
         "Johnny Walker",
         "Zhang Mingyang",
         "1-0",
         "50-20",
         "0-0",
         "0-0",
         "Light Heavyweight",
         "KO/TKO-Punches",
         "2",
         "2:37"
        ],
        [
         "1",
         "UFC Fight Night: Walker vs. Zhang",
         "August 23, 2025",
         "Aljamain Sterling",
         "Aljamain Sterling",
         "Brian Ortega",
         "0-0",
         "124-55",
         "3-0",
         "0-0",
         "Catch Weight",
         "U-DEC",
         "5",
         "5:00"
        ],
        [
         "2",
         "UFC Fight Night: Walker vs. Zhang",
         "August 23, 2025",
         "Sergei Pavlovich",
         "Sergei Pavlovich",
         "Waldo Cortes-Acosta",
         "0-0",
         "61-45",
         "0-0",
         "0-0",
         "Heavyweight",
         "U-DEC",
         "3",
         "5:00"
        ],
        [
         "3",
         "UFC Fight Night: Walker vs. Zhang",
         "August 23, 2025",
         "Sumudaerji",
         "Sumudaerji",
         "Kevin Borjas",
         "0-0",
         "73-16",
         "0-0",
         "0-0",
         "Flyweight",
         "U-DEC",
         "3",
         "5:00"
        ],
        [
         "4",
         "UFC Fight Night: Walker vs. Zhang",
         "August 23, 2025",
         "Taiyilake Nueraji",
         "Taiyilake Nueraji",
         "Kiefer Crosbie",
         "0-0",
         "27-2",
         "1-0",
         "0-0",
         "Welterweight",
         "KO/TKO-Elbows",
         "1",
         "3:33"
        ]
       ],
       "shape": {
        "columns": 13,
        "rows": 5
       }
      },
      "text/html": [
       "<div>\n",
       "<style scoped>\n",
       "    .dataframe tbody tr th:only-of-type {\n",
       "        vertical-align: middle;\n",
       "    }\n",
       "\n",
       "    .dataframe tbody tr th {\n",
       "        vertical-align: top;\n",
       "    }\n",
       "\n",
       "    .dataframe thead th {\n",
       "        text-align: right;\n",
       "    }\n",
       "</style>\n",
       "<table border=\"1\" class=\"dataframe\">\n",
       "  <thead>\n",
       "    <tr style=\"text-align: right;\">\n",
       "      <th></th>\n",
       "      <th>Event Name</th>\n",
       "      <th>Event Date</th>\n",
       "      <th>Result</th>\n",
       "      <th>Fighter1</th>\n",
       "      <th>Fighter2</th>\n",
       "      <th>KD</th>\n",
       "      <th>Strikes</th>\n",
       "      <th>TD</th>\n",
       "      <th>Sub</th>\n",
       "      <th>Weight Class</th>\n",
       "      <th>Method</th>\n",
       "      <th>Round</th>\n",
       "      <th>Time</th>\n",
       "    </tr>\n",
       "  </thead>\n",
       "  <tbody>\n",
       "    <tr>\n",
       "      <th>0</th>\n",
       "      <td>UFC Fight Night: Walker vs. Zhang</td>\n",
       "      <td>August 23, 2025</td>\n",
       "      <td>Johnny Walker</td>\n",
       "      <td>Johnny Walker</td>\n",
       "      <td>Zhang Mingyang</td>\n",
       "      <td>1-0</td>\n",
       "      <td>50-20</td>\n",
       "      <td>0-0</td>\n",
       "      <td>0-0</td>\n",
       "      <td>Light Heavyweight</td>\n",
       "      <td>KO/TKO-Punches</td>\n",
       "      <td>2</td>\n",
       "      <td>2:37</td>\n",
       "    </tr>\n",
       "    <tr>\n",
       "      <th>1</th>\n",
       "      <td>UFC Fight Night: Walker vs. Zhang</td>\n",
       "      <td>August 23, 2025</td>\n",
       "      <td>Aljamain Sterling</td>\n",
       "      <td>Aljamain Sterling</td>\n",
       "      <td>Brian Ortega</td>\n",
       "      <td>0-0</td>\n",
       "      <td>124-55</td>\n",
       "      <td>3-0</td>\n",
       "      <td>0-0</td>\n",
       "      <td>Catch Weight</td>\n",
       "      <td>U-DEC</td>\n",
       "      <td>5</td>\n",
       "      <td>5:00</td>\n",
       "    </tr>\n",
       "    <tr>\n",
       "      <th>2</th>\n",
       "      <td>UFC Fight Night: Walker vs. Zhang</td>\n",
       "      <td>August 23, 2025</td>\n",
       "      <td>Sergei Pavlovich</td>\n",
       "      <td>Sergei Pavlovich</td>\n",
       "      <td>Waldo Cortes-Acosta</td>\n",
       "      <td>0-0</td>\n",
       "      <td>61-45</td>\n",
       "      <td>0-0</td>\n",
       "      <td>0-0</td>\n",
       "      <td>Heavyweight</td>\n",
       "      <td>U-DEC</td>\n",
       "      <td>3</td>\n",
       "      <td>5:00</td>\n",
       "    </tr>\n",
       "    <tr>\n",
       "      <th>3</th>\n",
       "      <td>UFC Fight Night: Walker vs. Zhang</td>\n",
       "      <td>August 23, 2025</td>\n",
       "      <td>Sumudaerji</td>\n",
       "      <td>Sumudaerji</td>\n",
       "      <td>Kevin Borjas</td>\n",
       "      <td>0-0</td>\n",
       "      <td>73-16</td>\n",
       "      <td>0-0</td>\n",
       "      <td>0-0</td>\n",
       "      <td>Flyweight</td>\n",
       "      <td>U-DEC</td>\n",
       "      <td>3</td>\n",
       "      <td>5:00</td>\n",
       "    </tr>\n",
       "    <tr>\n",
       "      <th>4</th>\n",
       "      <td>UFC Fight Night: Walker vs. Zhang</td>\n",
       "      <td>August 23, 2025</td>\n",
       "      <td>Taiyilake Nueraji</td>\n",
       "      <td>Taiyilake Nueraji</td>\n",
       "      <td>Kiefer Crosbie</td>\n",
       "      <td>0-0</td>\n",
       "      <td>27-2</td>\n",
       "      <td>1-0</td>\n",
       "      <td>0-0</td>\n",
       "      <td>Welterweight</td>\n",
       "      <td>KO/TKO-Elbows</td>\n",
       "      <td>1</td>\n",
       "      <td>3:33</td>\n",
       "    </tr>\n",
       "  </tbody>\n",
       "</table>\n",
       "</div>"
      ],
      "text/plain": [
       "                          Event Name       Event Date             Result           Fighter1             Fighter2   KD  \\\n",
       "0  UFC Fight Night: Walker vs. Zhang  August 23, 2025      Johnny Walker      Johnny Walker       Zhang Mingyang  1-0   \n",
       "1  UFC Fight Night: Walker vs. Zhang  August 23, 2025  Aljamain Sterling  Aljamain Sterling         Brian Ortega  0-0   \n",
       "2  UFC Fight Night: Walker vs. Zhang  August 23, 2025   Sergei Pavlovich   Sergei Pavlovich  Waldo Cortes-Acosta  0-0   \n",
       "3  UFC Fight Night: Walker vs. Zhang  August 23, 2025         Sumudaerji         Sumudaerji         Kevin Borjas  0-0   \n",
       "4  UFC Fight Night: Walker vs. Zhang  August 23, 2025  Taiyilake Nueraji  Taiyilake Nueraji       Kiefer Crosbie  0-0   \n",
       "\n",
       "  Strikes   TD  Sub       Weight Class          Method  Round  Time  \n",
       "0   50-20  0-0  0-0  Light Heavyweight  KO/TKO-Punches      2  2:37  \n",
       "1  124-55  3-0  0-0       Catch Weight           U-DEC      5  5:00  \n",
       "2   61-45  0-0  0-0        Heavyweight           U-DEC      3  5:00  \n",
       "3   73-16  0-0  0-0          Flyweight           U-DEC      3  5:00  \n",
       "4    27-2  1-0  0-0       Welterweight   KO/TKO-Elbows      1  3:33  "
      ]
     },
     "metadata": {},
     "output_type": "display_data"
    },
    {
     "data": {
      "application/vnd.microsoft.datawrangler.viewer.v0+json": {
       "columns": [
        {
         "name": "index",
         "rawType": "int64",
         "type": "integer"
        },
        {
         "name": "First Name",
         "rawType": "object",
         "type": "string"
        },
        {
         "name": "Last Name",
         "rawType": "object",
         "type": "string"
        },
        {
         "name": "Nickname",
         "rawType": "object",
         "type": "unknown"
        },
        {
         "name": "Height",
         "rawType": "object",
         "type": "string"
        },
        {
         "name": "Weight",
         "rawType": "object",
         "type": "string"
        },
        {
         "name": "Reach",
         "rawType": "object",
         "type": "string"
        },
        {
         "name": "Stance",
         "rawType": "object",
         "type": "unknown"
        },
        {
         "name": "Wins",
         "rawType": "int64",
         "type": "integer"
        },
        {
         "name": "Losses",
         "rawType": "int64",
         "type": "integer"
        },
        {
         "name": "Draws",
         "rawType": "int64",
         "type": "integer"
        }
       ],
       "ref": "364a51c9-22cd-41e3-b3f7-54d9d9776105",
       "rows": [
        [
         "0",
         "Tom",
         "Aaron",
         null,
         "--",
         "155 lbs.",
         "--",
         null,
         "5",
         "3",
         "0"
        ],
        [
         "1",
         "Danny",
         "Abbadi",
         "The Assassin",
         "5' 11\"",
         "155 lbs.",
         "--",
         "Orthodox",
         "4",
         "6",
         "0"
        ],
        [
         "2",
         "Nariman",
         "Abbasov",
         "Bayraktar",
         "5' 8\"",
         "155 lbs.",
         "66.0\"",
         "Orthodox",
         "28",
         "4",
         "0"
        ],
        [
         "3",
         "Darion",
         "Abbey",
         null,
         "6' 2\"",
         "265 lbs.",
         "80.0\"",
         "Orthodox",
         "9",
         "5",
         "0"
        ],
        [
         "4",
         "David",
         "Abbott",
         "Tank",
         "6' 0\"",
         "265 lbs.",
         "--",
         "Switch",
         "10",
         "15",
         "0"
        ]
       ],
       "shape": {
        "columns": 10,
        "rows": 5
       }
      },
      "text/html": [
       "<div>\n",
       "<style scoped>\n",
       "    .dataframe tbody tr th:only-of-type {\n",
       "        vertical-align: middle;\n",
       "    }\n",
       "\n",
       "    .dataframe tbody tr th {\n",
       "        vertical-align: top;\n",
       "    }\n",
       "\n",
       "    .dataframe thead th {\n",
       "        text-align: right;\n",
       "    }\n",
       "</style>\n",
       "<table border=\"1\" class=\"dataframe\">\n",
       "  <thead>\n",
       "    <tr style=\"text-align: right;\">\n",
       "      <th></th>\n",
       "      <th>First Name</th>\n",
       "      <th>Last Name</th>\n",
       "      <th>Nickname</th>\n",
       "      <th>Height</th>\n",
       "      <th>Weight</th>\n",
       "      <th>Reach</th>\n",
       "      <th>Stance</th>\n",
       "      <th>Wins</th>\n",
       "      <th>Losses</th>\n",
       "      <th>Draws</th>\n",
       "    </tr>\n",
       "  </thead>\n",
       "  <tbody>\n",
       "    <tr>\n",
       "      <th>0</th>\n",
       "      <td>Tom</td>\n",
       "      <td>Aaron</td>\n",
       "      <td>NaN</td>\n",
       "      <td>--</td>\n",
       "      <td>155 lbs.</td>\n",
       "      <td>--</td>\n",
       "      <td>NaN</td>\n",
       "      <td>5</td>\n",
       "      <td>3</td>\n",
       "      <td>0</td>\n",
       "    </tr>\n",
       "    <tr>\n",
       "      <th>1</th>\n",
       "      <td>Danny</td>\n",
       "      <td>Abbadi</td>\n",
       "      <td>The Assassin</td>\n",
       "      <td>5' 11\"</td>\n",
       "      <td>155 lbs.</td>\n",
       "      <td>--</td>\n",
       "      <td>Orthodox</td>\n",
       "      <td>4</td>\n",
       "      <td>6</td>\n",
       "      <td>0</td>\n",
       "    </tr>\n",
       "    <tr>\n",
       "      <th>2</th>\n",
       "      <td>Nariman</td>\n",
       "      <td>Abbasov</td>\n",
       "      <td>Bayraktar</td>\n",
       "      <td>5' 8\"</td>\n",
       "      <td>155 lbs.</td>\n",
       "      <td>66.0\"</td>\n",
       "      <td>Orthodox</td>\n",
       "      <td>28</td>\n",
       "      <td>4</td>\n",
       "      <td>0</td>\n",
       "    </tr>\n",
       "    <tr>\n",
       "      <th>3</th>\n",
       "      <td>Darion</td>\n",
       "      <td>Abbey</td>\n",
       "      <td>NaN</td>\n",
       "      <td>6' 2\"</td>\n",
       "      <td>265 lbs.</td>\n",
       "      <td>80.0\"</td>\n",
       "      <td>Orthodox</td>\n",
       "      <td>9</td>\n",
       "      <td>5</td>\n",
       "      <td>0</td>\n",
       "    </tr>\n",
       "    <tr>\n",
       "      <th>4</th>\n",
       "      <td>David</td>\n",
       "      <td>Abbott</td>\n",
       "      <td>Tank</td>\n",
       "      <td>6' 0\"</td>\n",
       "      <td>265 lbs.</td>\n",
       "      <td>--</td>\n",
       "      <td>Switch</td>\n",
       "      <td>10</td>\n",
       "      <td>15</td>\n",
       "      <td>0</td>\n",
       "    </tr>\n",
       "  </tbody>\n",
       "</table>\n",
       "</div>"
      ],
      "text/plain": [
       "  First Name Last Name      Nickname  Height    Weight  Reach    Stance  Wins  Losses  Draws\n",
       "0        Tom     Aaron           NaN      --  155 lbs.     --       NaN     5       3      0\n",
       "1      Danny    Abbadi  The Assassin  5' 11\"  155 lbs.     --  Orthodox     4       6      0\n",
       "2    Nariman   Abbasov     Bayraktar   5' 8\"  155 lbs.  66.0\"  Orthodox    28       4      0\n",
       "3     Darion     Abbey           NaN   6' 2\"  265 lbs.  80.0\"  Orthodox     9       5      0\n",
       "4      David    Abbott          Tank   6' 0\"  265 lbs.     --    Switch    10      15      0"
      ]
     },
     "metadata": {},
     "output_type": "display_data"
    }
   ],
   "source": [
    "event_df = pd.read_csv(\"ufc_data/ufc_event_data.csv\")\n",
    "fighter_df = pd.read_csv(\"ufc_data/ufc_fighters.csv\")\n",
    "\n",
    "display(event_df.head())\n",
    "display(fighter_df.head())\n"
   ]
  },
  {
   "cell_type": "markdown",
   "id": "65472aac",
   "metadata": {},
   "source": [
    "### Cleaning & Standardization"
   ]
  },
  {
   "cell_type": "code",
   "execution_count": 159,
   "id": "b8c22c7c",
   "metadata": {},
   "outputs": [
    {
     "data": {
      "application/vnd.microsoft.datawrangler.viewer.v0+json": {
       "columns": [
        {
         "name": "index",
         "rawType": "object",
         "type": "string"
        },
        {
         "name": "missing",
         "rawType": "int64",
         "type": "integer"
        }
       ],
       "ref": "53419679-72c7-467e-944c-1d72d0aa0b58",
       "rows": [],
       "shape": {
        "columns": 1,
        "rows": 0
       }
      },
      "text/html": [
       "<div>\n",
       "<style scoped>\n",
       "    .dataframe tbody tr th:only-of-type {\n",
       "        vertical-align: middle;\n",
       "    }\n",
       "\n",
       "    .dataframe tbody tr th {\n",
       "        vertical-align: top;\n",
       "    }\n",
       "\n",
       "    .dataframe thead th {\n",
       "        text-align: right;\n",
       "    }\n",
       "</style>\n",
       "<table border=\"1\" class=\"dataframe\">\n",
       "  <thead>\n",
       "    <tr style=\"text-align: right;\">\n",
       "      <th></th>\n",
       "      <th>missing</th>\n",
       "    </tr>\n",
       "  </thead>\n",
       "  <tbody>\n",
       "  </tbody>\n",
       "</table>\n",
       "</div>"
      ],
      "text/plain": [
       "Empty DataFrame\n",
       "Columns: [missing]\n",
       "Index: []"
      ]
     },
     "metadata": {},
     "output_type": "display_data"
    }
   ],
   "source": [
    "\n",
    "# --- Fighter table cleanup\n",
    "fighter_df = fighter_df.copy()\n",
    "if set([\"First Name\",\"Last Name\"]).issubset(fighter_df.columns):\n",
    "    fighter_df[\"Name\"] = fighter_df[\"First Name\"].str.strip() + \" \" + fighter_df[\"Last Name\"].str.strip()\n",
    "    fighter_df = fighter_df.drop(columns=[c for c in [\"Nickname\",\"First Name\",\"Last Name\"] if c in fighter_df.columns])\n",
    "\n",
    "# --- Event table cleanup\n",
    "event_df = event_df.copy()\n",
    "\n",
    "# Dates to datetime\n",
    "if \"Event Date\" in event_df.columns:\n",
    "  event_df[\"Event Date\"] = pd.to_datetime(event_df[\"Event Date\"], errors=\"coerce\")\n",
    "\n",
    "# Column renaming for clarity (use what's present)\n",
    "renaming = {\n",
    "  \"Fighter1\": \"Winner\",\n",
    "  \"Fighter2\": \"Loser\",\n",
    "  \"KD\": \"Knockdowns\",\n",
    "  \"Sig. str.\": \"Significant Strikes\",\n",
    "  \"Td\": \"Takedowns\",\n",
    "  \"Sub. att\": \"Submission Attempts\",\n",
    "}\n",
    "event_df = event_df.rename(columns={k:v for k,v in renaming.items() if k in event_df.columns})\n",
    "\n",
    "# Derive Winner/Loser columns from paired string fields when needed\n",
    "# Many scrapes store stats like '50-20' (winner-loser). Parse into two numeric columns.\n",
    "def _split_pair(series):\n",
    "  s = series.astype(str)\n",
    "  # Extract integers around a hyphen, tolerating spaces\n",
    "  out = s.str.extract(r\"\\s*(\\d+)\\s*-\\s*(\\d+)\\s*\")\n",
    "  out = out.rename(columns={0: 'win', 1: 'loss'})\n",
    "  out['win'] = pd.to_numeric(out['win'], errors='coerce')\n",
    "  out['loss'] = pd.to_numeric(out['loss'], errors='coerce')\n",
    "  return out\n",
    "\n",
    "# Map raw aggregated columns to canonical Winner/Loser targets\n",
    "pair_sources = [\n",
    "    ('Strikes', 'Sig Strikes'),\n",
    "    ('TD', 'Takedowns Landed'),\n",
    "    ('Sub', 'Submission Attempts'),\n",
    "    ('Knockdowns', 'Knockdowns'),  # may have been renamed from 'KD' above\n",
    "]\n",
    "for src, label in pair_sources:\n",
    "  if src in event_df.columns:\n",
    "    parsed = _split_pair(event_df[src])\n",
    "    event_df[f'Winner {label}'] = parsed['win']\n",
    "    event_df[f'Loser {label}']  = parsed['loss']\n",
    "\n",
    "# Winner/Loser stat columns (for side-by-side comparison)\n",
    "# Expect columns like \"Winner Sig Strikes\", \"Loser Sig Strikes\" etc.\n",
    "candidate_pairs = [\n",
    "  (\"Winner Sig Strikes\", \"Loser Sig Strikes\"),\n",
    "  (\"Winner Takedowns Landed\", \"Loser Takedowns Landed\"),\n",
    "  (\"Winner Submission Attempts\", \"Loser Submission Attempts\"),\n",
    "  (\"Winner Knockdowns\", \"Loser Knockdowns\"),\n",
    "]\n",
    "present_pairs = [(win,loss) for (win,loss) in candidate_pairs if win in event_df.columns and loss in event_df.columns]\n",
    "\n",
    "# Basic NA handling\n",
    "na_report = event_df.isna().sum().sort_values(ascending=False)\n",
    "display(pd.DataFrame({\"missing\": na_report[na_report>0]}))\n",
    "\n",
    "# Simple imputation for numeric analytical columns (median)\n",
    "for win, loss in present_pairs:\n",
    "  for c in (win, loss):\n",
    "    if event_df[c].isna().any():\n",
    "      event_df[c] = event_df[c].fillna(event_df[c].median())\n"
   ]
  },
  {
   "cell_type": "markdown",
   "id": "a341b97f",
   "metadata": {},
   "source": [
    "### Descriptive Statistics"
   ]
  },
  {
   "cell_type": "code",
   "execution_count": 160,
   "id": "f9bc6c9b",
   "metadata": {},
   "outputs": [
    {
     "data": {
      "application/vnd.microsoft.datawrangler.viewer.v0+json": {
       "columns": [
        {
         "name": "index",
         "rawType": "object",
         "type": "string"
        },
        {
         "name": "count",
         "rawType": "float64",
         "type": "float"
        },
        {
         "name": "mean",
         "rawType": "float64",
         "type": "float"
        },
        {
         "name": "std",
         "rawType": "float64",
         "type": "float"
        },
        {
         "name": "min",
         "rawType": "float64",
         "type": "float"
        },
        {
         "name": "25%",
         "rawType": "float64",
         "type": "float"
        },
        {
         "name": "50%",
         "rawType": "float64",
         "type": "float"
        },
        {
         "name": "75%",
         "rawType": "float64",
         "type": "float"
        },
        {
         "name": "max",
         "rawType": "float64",
         "type": "float"
        }
       ],
       "ref": "ed574439-3b9f-495e-a589-4759b4f41135",
       "rows": [
        [
         "Round",
         "2863.0",
         "2.462801257422284",
         "1.035327813116876",
         "1.0",
         "2.0",
         "3.0",
         "3.0",
         "5.0"
        ],
        [
         "Winner Sig Strikes",
         "2863.0",
         "53.33007334963325",
         "39.55798352212908",
         "0.0",
         "23.0",
         "45.0",
         "76.0",
         "445.0"
        ],
        [
         "Loser Sig Strikes",
         "2863.0",
         "37.40971009430667",
         "31.944442129574494",
         "0.0",
         "12.0",
         "31.0",
         "55.0",
         "271.0"
        ],
        [
         "Winner Takedowns Landed",
         "2863.0",
         "1.4170450576318547",
         "2.0201680712392114",
         "0.0",
         "0.0",
         "1.0",
         "2.0",
         "14.0"
        ],
        [
         "Loser Takedowns Landed",
         "2863.0",
         "0.6587495633950402",
         "1.198589656231061",
         "0.0",
         "0.0",
         "0.0",
         "1.0",
         "9.0"
        ],
        [
         "Winner Submission Attempts",
         "2863.0",
         "0.4278728606356968",
         "0.8149665154386764",
         "0.0",
         "0.0",
         "0.0",
         "1.0",
         "7.0"
        ],
        [
         "Loser Submission Attempts",
         "2863.0",
         "0.15578064966818023",
         "0.5024474795322661",
         "0.0",
         "0.0",
         "0.0",
         "0.0",
         "5.0"
        ],
        [
         "Winner Knockdowns",
         "2863.0",
         "0.3643031784841076",
         "0.6065769811956094",
         "0.0",
         "0.0",
         "0.0",
         "1.0",
         "6.0"
        ],
        [
         "Loser Knockdowns",
         "2863.0",
         "0.05483758295494237",
         "0.2439989027166518",
         "0.0",
         "0.0",
         "0.0",
         "0.0",
         "2.0"
        ]
       ],
       "shape": {
        "columns": 8,
        "rows": 9
       }
      },
      "text/html": [
       "<div>\n",
       "<style scoped>\n",
       "    .dataframe tbody tr th:only-of-type {\n",
       "        vertical-align: middle;\n",
       "    }\n",
       "\n",
       "    .dataframe tbody tr th {\n",
       "        vertical-align: top;\n",
       "    }\n",
       "\n",
       "    .dataframe thead th {\n",
       "        text-align: right;\n",
       "    }\n",
       "</style>\n",
       "<table border=\"1\" class=\"dataframe\">\n",
       "  <thead>\n",
       "    <tr style=\"text-align: right;\">\n",
       "      <th></th>\n",
       "      <th>count</th>\n",
       "      <th>mean</th>\n",
       "      <th>std</th>\n",
       "      <th>min</th>\n",
       "      <th>25%</th>\n",
       "      <th>50%</th>\n",
       "      <th>75%</th>\n",
       "      <th>max</th>\n",
       "    </tr>\n",
       "  </thead>\n",
       "  <tbody>\n",
       "    <tr>\n",
       "      <th>Round</th>\n",
       "      <td>2863.0</td>\n",
       "      <td>2.462801</td>\n",
       "      <td>1.035328</td>\n",
       "      <td>1.0</td>\n",
       "      <td>2.0</td>\n",
       "      <td>3.0</td>\n",
       "      <td>3.0</td>\n",
       "      <td>5.0</td>\n",
       "    </tr>\n",
       "    <tr>\n",
       "      <th>Winner Sig Strikes</th>\n",
       "      <td>2863.0</td>\n",
       "      <td>53.330073</td>\n",
       "      <td>39.557984</td>\n",
       "      <td>0.0</td>\n",
       "      <td>23.0</td>\n",
       "      <td>45.0</td>\n",
       "      <td>76.0</td>\n",
       "      <td>445.0</td>\n",
       "    </tr>\n",
       "    <tr>\n",
       "      <th>Loser Sig Strikes</th>\n",
       "      <td>2863.0</td>\n",
       "      <td>37.409710</td>\n",
       "      <td>31.944442</td>\n",
       "      <td>0.0</td>\n",
       "      <td>12.0</td>\n",
       "      <td>31.0</td>\n",
       "      <td>55.0</td>\n",
       "      <td>271.0</td>\n",
       "    </tr>\n",
       "    <tr>\n",
       "      <th>Winner Takedowns Landed</th>\n",
       "      <td>2863.0</td>\n",
       "      <td>1.417045</td>\n",
       "      <td>2.020168</td>\n",
       "      <td>0.0</td>\n",
       "      <td>0.0</td>\n",
       "      <td>1.0</td>\n",
       "      <td>2.0</td>\n",
       "      <td>14.0</td>\n",
       "    </tr>\n",
       "    <tr>\n",
       "      <th>Loser Takedowns Landed</th>\n",
       "      <td>2863.0</td>\n",
       "      <td>0.658750</td>\n",
       "      <td>1.198590</td>\n",
       "      <td>0.0</td>\n",
       "      <td>0.0</td>\n",
       "      <td>0.0</td>\n",
       "      <td>1.0</td>\n",
       "      <td>9.0</td>\n",
       "    </tr>\n",
       "    <tr>\n",
       "      <th>Winner Submission Attempts</th>\n",
       "      <td>2863.0</td>\n",
       "      <td>0.427873</td>\n",
       "      <td>0.814967</td>\n",
       "      <td>0.0</td>\n",
       "      <td>0.0</td>\n",
       "      <td>0.0</td>\n",
       "      <td>1.0</td>\n",
       "      <td>7.0</td>\n",
       "    </tr>\n",
       "    <tr>\n",
       "      <th>Loser Submission Attempts</th>\n",
       "      <td>2863.0</td>\n",
       "      <td>0.155781</td>\n",
       "      <td>0.502447</td>\n",
       "      <td>0.0</td>\n",
       "      <td>0.0</td>\n",
       "      <td>0.0</td>\n",
       "      <td>0.0</td>\n",
       "      <td>5.0</td>\n",
       "    </tr>\n",
       "    <tr>\n",
       "      <th>Winner Knockdowns</th>\n",
       "      <td>2863.0</td>\n",
       "      <td>0.364303</td>\n",
       "      <td>0.606577</td>\n",
       "      <td>0.0</td>\n",
       "      <td>0.0</td>\n",
       "      <td>0.0</td>\n",
       "      <td>1.0</td>\n",
       "      <td>6.0</td>\n",
       "    </tr>\n",
       "    <tr>\n",
       "      <th>Loser Knockdowns</th>\n",
       "      <td>2863.0</td>\n",
       "      <td>0.054838</td>\n",
       "      <td>0.243999</td>\n",
       "      <td>0.0</td>\n",
       "      <td>0.0</td>\n",
       "      <td>0.0</td>\n",
       "      <td>0.0</td>\n",
       "      <td>2.0</td>\n",
       "    </tr>\n",
       "  </tbody>\n",
       "</table>\n",
       "</div>"
      ],
      "text/plain": [
       "                             count       mean        std  min   25%   50%   75%    max\n",
       "Round                       2863.0   2.462801   1.035328  1.0   2.0   3.0   3.0    5.0\n",
       "Winner Sig Strikes          2863.0  53.330073  39.557984  0.0  23.0  45.0  76.0  445.0\n",
       "Loser Sig Strikes           2863.0  37.409710  31.944442  0.0  12.0  31.0  55.0  271.0\n",
       "Winner Takedowns Landed     2863.0   1.417045   2.020168  0.0   0.0   1.0   2.0   14.0\n",
       "Loser Takedowns Landed      2863.0   0.658750   1.198590  0.0   0.0   0.0   1.0    9.0\n",
       "Winner Submission Attempts  2863.0   0.427873   0.814967  0.0   0.0   0.0   1.0    7.0\n",
       "Loser Submission Attempts   2863.0   0.155781   0.502447  0.0   0.0   0.0   0.0    5.0\n",
       "Winner Knockdowns           2863.0   0.364303   0.606577  0.0   0.0   0.0   1.0    6.0\n",
       "Loser Knockdowns            2863.0   0.054838   0.243999  0.0   0.0   0.0   0.0    2.0"
      ]
     },
     "metadata": {},
     "output_type": "display_data"
    }
   ],
   "source": [
    "\n",
    "desc = event_df.select_dtypes(include=\"number\").describe().T\n",
    "display(desc.head(12))\n"
   ]
  },
  {
   "cell_type": "markdown",
   "id": "2382174c",
   "metadata": {},
   "source": [
    "### Winner vs Loser — Mean Comparison (4 stats)"
   ]
  },
  {
   "cell_type": "code",
   "execution_count": 161,
   "id": "0877a669",
   "metadata": {},
   "outputs": [
    {
     "data": {
      "image/png": "[encoded data removed]",
      "text/plain": [
       "<Figure size 1200x800 with 4 Axes>"
      ]
     },
     "metadata": {},
     "output_type": "display_data"
    }
   ],
   "source": [
    "\n",
    "order = [\"Significant Strikes\", \"Takedowns Landed\", \"Submission Attempts\", \"Knockdowns\"]\n",
    "# Backward compatibility with slightly different column names\n",
    "canonical_map = {\n",
    "  \"Significant Strikes\": (\"Winner Sig Strikes\",\"Loser Sig Strikes\"),\n",
    "  \"Takedowns Landed\": (\"Winner Takedowns Landed\",\"Loser Takedowns Landed\"),\n",
    "  \"Submission Attempts\": (\"Winner Submission Attempts\",\"Loser Submission Attempts\"),\n",
    "  \"Knockdowns\": (\"Winner Knockdowns\",\"Loser Knockdowns\"),\n",
    "}\n",
    "available = [s for s in order if set(canonical_map[s]).issubset(event_df.columns)]\n",
    "\n",
    "\n",
    "fig, axes = plt.subplots(nrows=2, ncols=2, figsize=(12, 8), constrained_layout=True)\n",
    "axes = axes.ravel()\n",
    "\n",
    "for ax, stat in zip(axes, available):\n",
    "  wcol, lcol = canonical_map[stat]\n",
    "  means = [event_df[wcol].mean(), event_df[lcol].mean()]\n",
    "  bars = ax.bar([\"Winner\",\"Loser\"], means)\n",
    "  ax.set_title(stat)\n",
    "  ax.set_ylabel(\"Mean\")\n",
    "\n",
    "  # y-limit padding\n",
    "  ymax = max(means) if len(means) else 1.0\n",
    "  ax.set_ylim(0, ymax * 1.15 if ymax > 0 else 1)\n",
    "\n",
    "  # annotate bars\n",
    "  for idx, val in enumerate(means):\n",
    "    ax.text(idx, val, f\"{val:.2f}\", ha=\"center\", va=\"bottom\")\n",
    "\n",
    "\n",
    "plt.suptitle(\"Fight Stats (Mean): Winner vs Loser\", y=1.02)\n",
    "plt.show()\n"
   ]
  },
  {
   "cell_type": "markdown",
   "id": "3120faab",
   "metadata": {},
   "source": [
    "\n",
    "**Takeaway:** Winners typically lead in striking and/or grappling pressure; the annotated values make the magnitude of differences obvious at a glance.\n"
   ]
  },
  {
   "cell_type": "markdown",
   "id": "d6a84161",
   "metadata": {},
   "source": [
    "###  How Did the Fights End?"
   ]
  },
  {
   "cell_type": "code",
   "execution_count": 162,
   "id": "e7fbb530",
   "metadata": {},
   "outputs": [
    {
     "data": {
      "image/png": "[encoded data removed]",
      "text/plain": [
       "<Figure size 640x480 with 1 Axes>"
      ]
     },
     "metadata": {},
     "output_type": "display_data"
    },
    {
     "data": {
      "application/vnd.microsoft.datawrangler.viewer.v0+json": {
       "columns": [
        {
         "name": "Method",
         "rawType": "object",
         "type": "string"
        },
        {
         "name": "count",
         "rawType": "int64",
         "type": "integer"
        },
        {
         "name": "pct",
         "rawType": "float64",
         "type": "float"
        }
       ],
       "ref": "1e1569c4-449d-41b2-a022-198b9653c107",
       "rows": [
        [
         "Decision",
         "1438",
         "0.502"
        ],
        [
         "KO/TKO",
         "892",
         "0.312"
        ],
        [
         "Submission",
         "493",
         "0.172"
        ],
        [
         "Overturned",
         "17",
         "0.006"
        ],
        [
         "CNC",
         "15",
         "0.005"
        ],
        [
         "DQ",
         "8",
         "0.003"
        ]
       ],
       "shape": {
        "columns": 2,
        "rows": 6
       }
      },
      "text/html": [
       "<div>\n",
       "<style scoped>\n",
       "    .dataframe tbody tr th:only-of-type {\n",
       "        vertical-align: middle;\n",
       "    }\n",
       "\n",
       "    .dataframe tbody tr th {\n",
       "        vertical-align: top;\n",
       "    }\n",
       "\n",
       "    .dataframe thead th {\n",
       "        text-align: right;\n",
       "    }\n",
       "</style>\n",
       "<table border=\"1\" class=\"dataframe\">\n",
       "  <thead>\n",
       "    <tr style=\"text-align: right;\">\n",
       "      <th></th>\n",
       "      <th>count</th>\n",
       "      <th>pct</th>\n",
       "    </tr>\n",
       "    <tr>\n",
       "      <th>Method</th>\n",
       "      <th></th>\n",
       "      <th></th>\n",
       "    </tr>\n",
       "  </thead>\n",
       "  <tbody>\n",
       "    <tr>\n",
       "      <th>Decision</th>\n",
       "      <td>1438</td>\n",
       "      <td>0.502</td>\n",
       "    </tr>\n",
       "    <tr>\n",
       "      <th>KO/TKO</th>\n",
       "      <td>892</td>\n",
       "      <td>0.312</td>\n",
       "    </tr>\n",
       "    <tr>\n",
       "      <th>Submission</th>\n",
       "      <td>493</td>\n",
       "      <td>0.172</td>\n",
       "    </tr>\n",
       "    <tr>\n",
       "      <th>Overturned</th>\n",
       "      <td>17</td>\n",
       "      <td>0.006</td>\n",
       "    </tr>\n",
       "    <tr>\n",
       "      <th>CNC</th>\n",
       "      <td>15</td>\n",
       "      <td>0.005</td>\n",
       "    </tr>\n",
       "    <tr>\n",
       "      <th>DQ</th>\n",
       "      <td>8</td>\n",
       "      <td>0.003</td>\n",
       "    </tr>\n",
       "  </tbody>\n",
       "</table>\n",
       "</div>"
      ],
      "text/plain": [
       "            count    pct\n",
       "Method                  \n",
       "Decision     1438  0.502\n",
       "KO/TKO        892  0.312\n",
       "Submission    493  0.172\n",
       "Overturned     17  0.006\n",
       "CNC            15  0.005\n",
       "DQ              8  0.003"
      ]
     },
     "execution_count": 162,
     "metadata": {},
     "output_type": "execute_result"
    }
   ],
   "source": [
    "\n",
    "# Create a normalized 'Method (grouped)' label\n",
    "method_col = None\n",
    "for c in [\"Method\",\"Fight Ended\",\"Ending Method\"]:\n",
    "  if c in event_df.columns:\n",
    "    method_col = c\n",
    "    break\n",
    "\n",
    "if method_col is None:\n",
    "  raise ValueError(\"Could not find a column that indicates fight method (e.g., 'Method').\")\n",
    "\n",
    "method_map = {\n",
    "  r\".*KO/TKO.*\": \"KO/TKO\",\n",
    "  r\".*SUB.*\": \"Submission\",\n",
    "  r\".*Overturned.*\": \"Overturned\",\n",
    "  r\".*DEC.*\": \"Decision\",\n",
    "}\n",
    "method_grouped = event_df[method_col].astype(str).replace(method_map, regex=True)\n",
    "vc = method_grouped.value_counts(dropna=False).sort_values(ascending=False)\n",
    "\n",
    "ax = vc.plot(kind=\"bar\")\n",
    "ax.set_title(\"Fight Outcomes (Grouped)\")\n",
    "ax.set_ylabel(\"Count\")\n",
    "for i, v in enumerate(vc.values):\n",
    "  ax.text(i, v, str(v), ha=\"center\", va=\"bottom\")\n",
    "plt.xticks(rotation=0)\n",
    "plt.show()\n",
    "\n",
    "vc.to_frame(\"count\").assign(pct=lambda d: d[\"count\"].div(d[\"count\"].sum()).round(3)).head(10)\n"
   ]
  },
  {
   "cell_type": "markdown",
   "id": "a9392ac5",
   "metadata": {},
   "source": [
    "\n",
    "**Takeaway:** Mos fights finish via a decision; KO/TKO and Submissions form the bulk of finishes. This baseline informs which skills tend to be decisive.\n"
   ]
  },
  {
   "cell_type": "markdown",
   "id": "920bb95b",
   "metadata": {},
   "source": [
    "### Submission Breakdown"
   ]
  },
  {
   "cell_type": "code",
   "execution_count": 163,
   "id": "89dffb30",
   "metadata": {},
   "outputs": [
    {
     "data": {
      "image/png": "[encoded data removed]",
      "text/plain": [
       "<Figure size 640x480 with 1 Axes>"
      ]
     },
     "metadata": {},
     "output_type": "display_data"
    }
   ],
   "source": [
    "s = pd.read_csv(\"ufc_data/ufc_event_data.csv\")[\"Method\"]\n",
    "\n",
    "subs = s[s.str.contains(\"SUB\", na=False)]\n",
    "\n",
    "# Clean labels → e.g., \"SUB - REAR-NAKED-CHOKE\" → \"Rear Naked Choke\"\n",
    "labels = (subs\n",
    "          .str.replace(r\"^SUB\\s*-\\s*\", \"\", regex=True)\n",
    "          .str.replace(\"-\", \" \")\n",
    "          .str.strip()\n",
    "          .str.title())\n",
    "\n",
    "\n",
    "counts = labels.value_counts()\n",
    "\n",
    "# 5) Aggregate small categories to \"Other\" to reduce crowding\n",
    "min_share = 0.03  # 3% \n",
    "share = counts / counts.sum()\n",
    "major = counts[share >= min_share]\n",
    "other_sum = counts[share < min_share].sum()\n",
    "if other_sum:\n",
    "  counts_plot = pd.concat([major, pd.Series({\"Other\": other_sum})])\n",
    "else:\n",
    "  counts_plot = major\n",
    "\n",
    "plt.title(\"Submission Distribution in UFC (Jan 2020-Aug 2025)\")\n",
    "plt.pie(\n",
    "  counts_plot.values,\n",
    "  labels=counts_plot.index,\n",
    "  autopct=\"%1.1f%%\",\n",
    "  startangle=90,\n",
    "  counterclock=False,\n",
    "  pctdistance=0.8,\n",
    "  labeldistance=1.05,\n",
    ")\n",
    "plt.tight_layout()\n",
    "plt.show()\n",
    "\n"
   ]
  },
  {
   "cell_type": "code",
   "execution_count": 164,
   "id": "7dd12f6a",
   "metadata": {},
   "outputs": [
    {
     "data": {
      "image/png": "[encoded data removed]",
      "text/plain": [
       "<Figure size 800x600 with 1 Axes>"
      ]
     },
     "metadata": {},
     "output_type": "display_data"
    }
   ],
   "source": [
    "plt.figure(figsize=(8, 6))\n",
    "counts.sort_values().plot(kind=\"barh\")\n",
    "plt.title(\"Submission Distribution in UFC (Jan 2020-Aug 2025)\")\n",
    "plt.xlabel(\"Count\")\n",
    "plt.tight_layout()\n",
    "plt.show()"
   ]
  },
  {
   "cell_type": "markdown",
   "id": "5f31358b",
   "metadata": {},
   "source": [
    "\n",
    "**Takeaway:** A few submissions (e.g., RNC, Guillotine) account for a large share; grouping rare entries keeps the chart legible.\n"
   ]
  },
  {
   "cell_type": "markdown",
   "id": "3138f835",
   "metadata": {},
   "source": [
    "### Correlation Snapshot (Numeric Columns)"
   ]
  },
  {
   "cell_type": "code",
   "execution_count": 165,
   "id": "4f5296ed",
   "metadata": {},
   "outputs": [
    {
     "data": {
      "image/png": "[encoded data removed]",
      "text/plain": [
       "<Figure size 800x600 with 2 Axes>"
      ]
     },
     "metadata": {},
     "output_type": "display_data"
    }
   ],
   "source": [
    "\n",
    "num = event_df.select_dtypes(include=\"number\")\n",
    "corr = num.corr(numeric_only=True)\n",
    "\n",
    "plt.figure(figsize=(8,6))\n",
    "sns.heatmap(corr, annot=False, square=True, cbar=True)\n",
    "plt.title(\"Correlation Heatmap (numeric)\")\n",
    "plt.tight_layout()\n",
    "plt.show()\n"
   ]
  },
  {
   "cell_type": "markdown",
   "id": "fc215618",
   "metadata": {},
   "source": [
    "### Stats Per Minute\n",
    "This looks at stats per minute, you can look at how active you have to over your opponents to win a fight. I will be using fights which have ended in a decision since activity per minute stats can dictate how the judges score who wins the round, and the fights. "
   ]
  },
  {
   "cell_type": "code",
   "execution_count": 166,
   "id": "3c0be256",
   "metadata": {},
   "outputs": [
    {
     "data": {
      "application/vnd.microsoft.datawrangler.viewer.v0+json": {
       "columns": [
        {
         "name": "index",
         "rawType": "int64",
         "type": "integer"
        },
        {
         "name": "Event Name",
         "rawType": "object",
         "type": "string"
        },
        {
         "name": "Event Date",
         "rawType": "datetime64[ns]",
         "type": "datetime"
        },
        {
         "name": "Result",
         "rawType": "object",
         "type": "string"
        },
        {
         "name": "Winner",
         "rawType": "object",
         "type": "string"
        },
        {
         "name": "Loser",
         "rawType": "object",
         "type": "string"
        },
        {
         "name": "Knockdowns",
         "rawType": "object",
         "type": "string"
        },
        {
         "name": "Strikes",
         "rawType": "object",
         "type": "string"
        },
        {
         "name": "TD",
         "rawType": "object",
         "type": "string"
        },
        {
         "name": "Sub",
         "rawType": "object",
         "type": "string"
        },
        {
         "name": "Weight Class",
         "rawType": "object",
         "type": "string"
        },
        {
         "name": "Method",
         "rawType": "object",
         "type": "string"
        },
        {
         "name": "Round",
         "rawType": "int64",
         "type": "integer"
        },
        {
         "name": "Time",
         "rawType": "object",
         "type": "string"
        },
        {
         "name": "Winner Sig Strikes",
         "rawType": "int64",
         "type": "integer"
        },
        {
         "name": "Loser Sig Strikes",
         "rawType": "int64",
         "type": "integer"
        },
        {
         "name": "Winner Takedowns Landed",
         "rawType": "int64",
         "type": "integer"
        },
        {
         "name": "Loser Takedowns Landed",
         "rawType": "int64",
         "type": "integer"
        },
        {
         "name": "Winner Submission Attempts",
         "rawType": "int64",
         "type": "integer"
        },
        {
         "name": "Loser Submission Attempts",
         "rawType": "int64",
         "type": "integer"
        },
        {
         "name": "Winner Knockdowns",
         "rawType": "int64",
         "type": "integer"
        },
        {
         "name": "Loser Knockdowns",
         "rawType": "int64",
         "type": "integer"
        }
       ],
       "ref": "3c347afd-adf2-4f58-b0f0-bf6c9cfdf31b",
       "rows": [
        [
         "0",
         "UFC Fight Night: Walker vs. Zhang",
         "2025-08-23 00:00:00",
         "Johnny Walker",
         "Johnny Walker",
         "Zhang Mingyang",
         "1-0",
         "50-20",
         "0-0",
         "0-0",
         "Light Heavyweight",
         "KO/TKO-Punches",
         "2",
         "2:37",
         "50",
         "20",
         "0",
         "0",
         "0",
         "0",
         "1",
         "0"
        ],
        [
         "1",
         "UFC Fight Night: Walker vs. Zhang",
         "2025-08-23 00:00:00",
         "Aljamain Sterling",
         "Aljamain Sterling",
         "Brian Ortega",
         "0-0",
         "124-55",
         "3-0",
         "0-0",
         "Catch Weight",
         "U-DEC",
         "5",
         "5:00",
         "124",
         "55",
         "3",
         "0",
         "0",
         "0",
         "0",
         "0"
        ],
        [
         "2",
         "UFC Fight Night: Walker vs. Zhang",
         "2025-08-23 00:00:00",
         "Sergei Pavlovich",
         "Sergei Pavlovich",
         "Waldo Cortes-Acosta",
         "0-0",
         "61-45",
         "0-0",
         "0-0",
         "Heavyweight",
         "U-DEC",
         "3",
         "5:00",
         "61",
         "45",
         "0",
         "0",
         "0",
         "0",
         "0",
         "0"
        ],
        [
         "3",
         "UFC Fight Night: Walker vs. Zhang",
         "2025-08-23 00:00:00",
         "Sumudaerji",
         "Sumudaerji",
         "Kevin Borjas",
         "0-0",
         "73-16",
         "0-0",
         "0-0",
         "Flyweight",
         "U-DEC",
         "3",
         "5:00",
         "73",
         "16",
         "0",
         "0",
         "0",
         "0",
         "0",
         "0"
        ],
        [
         "4",
         "UFC Fight Night: Walker vs. Zhang",
         "2025-08-23 00:00:00",
         "Taiyilake Nueraji",
         "Taiyilake Nueraji",
         "Kiefer Crosbie",
         "0-0",
         "27-2",
         "1-0",
         "0-0",
         "Welterweight",
         "KO/TKO-Elbows",
         "1",
         "3:33",
         "27",
         "2",
         "1",
         "0",
         "0",
         "0",
         "0",
         "0"
        ]
       ],
       "shape": {
        "columns": 21,
        "rows": 5
       }
      },
      "text/html": [
       "<div>\n",
       "<style scoped>\n",
       "    .dataframe tbody tr th:only-of-type {\n",
       "        vertical-align: middle;\n",
       "    }\n",
       "\n",
       "    .dataframe tbody tr th {\n",
       "        vertical-align: top;\n",
       "    }\n",
       "\n",
       "    .dataframe thead th {\n",
       "        text-align: right;\n",
       "    }\n",
       "</style>\n",
       "<table border=\"1\" class=\"dataframe\">\n",
       "  <thead>\n",
       "    <tr style=\"text-align: right;\">\n",
       "      <th></th>\n",
       "      <th>Event Name</th>\n",
       "      <th>Event Date</th>\n",
       "      <th>Result</th>\n",
       "      <th>Winner</th>\n",
       "      <th>Loser</th>\n",
       "      <th>Knockdowns</th>\n",
       "      <th>Strikes</th>\n",
       "      <th>TD</th>\n",
       "      <th>Sub</th>\n",
       "      <th>Weight Class</th>\n",
       "      <th>Method</th>\n",
       "      <th>Round</th>\n",
       "      <th>Time</th>\n",
       "      <th>Winner Sig Strikes</th>\n",
       "      <th>Loser Sig Strikes</th>\n",
       "      <th>Winner Takedowns Landed</th>\n",
       "      <th>Loser Takedowns Landed</th>\n",
       "      <th>Winner Submission Attempts</th>\n",
       "      <th>Loser Submission Attempts</th>\n",
       "      <th>Winner Knockdowns</th>\n",
       "      <th>Loser Knockdowns</th>\n",
       "    </tr>\n",
       "  </thead>\n",
       "  <tbody>\n",
       "    <tr>\n",
       "      <th>0</th>\n",
       "      <td>UFC Fight Night: Walker vs. Zhang</td>\n",
       "      <td>2025-08-23</td>\n",
       "      <td>Johnny Walker</td>\n",
       "      <td>Johnny Walker</td>\n",
       "      <td>Zhang Mingyang</td>\n",
       "      <td>1-0</td>\n",
       "      <td>50-20</td>\n",
       "      <td>0-0</td>\n",
       "      <td>0-0</td>\n",
       "      <td>Light Heavyweight</td>\n",
       "      <td>KO/TKO-Punches</td>\n",
       "      <td>2</td>\n",
       "      <td>2:37</td>\n",
       "      <td>50</td>\n",
       "      <td>20</td>\n",
       "      <td>0</td>\n",
       "      <td>0</td>\n",
       "      <td>0</td>\n",
       "      <td>0</td>\n",
       "      <td>1</td>\n",
       "      <td>0</td>\n",
       "    </tr>\n",
       "    <tr>\n",
       "      <th>1</th>\n",
       "      <td>UFC Fight Night: Walker vs. Zhang</td>\n",
       "      <td>2025-08-23</td>\n",
       "      <td>Aljamain Sterling</td>\n",
       "      <td>Aljamain Sterling</td>\n",
       "      <td>Brian Ortega</td>\n",
       "      <td>0-0</td>\n",
       "      <td>124-55</td>\n",
       "      <td>3-0</td>\n",
       "      <td>0-0</td>\n",
       "      <td>Catch Weight</td>\n",
       "      <td>U-DEC</td>\n",
       "      <td>5</td>\n",
       "      <td>5:00</td>\n",
       "      <td>124</td>\n",
       "      <td>55</td>\n",
       "      <td>3</td>\n",
       "      <td>0</td>\n",
       "      <td>0</td>\n",
       "      <td>0</td>\n",
       "      <td>0</td>\n",
       "      <td>0</td>\n",
       "    </tr>\n",
       "    <tr>\n",
       "      <th>2</th>\n",
       "      <td>UFC Fight Night: Walker vs. Zhang</td>\n",
       "      <td>2025-08-23</td>\n",
       "      <td>Sergei Pavlovich</td>\n",
       "      <td>Sergei Pavlovich</td>\n",
       "      <td>Waldo Cortes-Acosta</td>\n",
       "      <td>0-0</td>\n",
       "      <td>61-45</td>\n",
       "      <td>0-0</td>\n",
       "      <td>0-0</td>\n",
       "      <td>Heavyweight</td>\n",
       "      <td>U-DEC</td>\n",
       "      <td>3</td>\n",
       "      <td>5:00</td>\n",
       "      <td>61</td>\n",
       "      <td>45</td>\n",
       "      <td>0</td>\n",
       "      <td>0</td>\n",
       "      <td>0</td>\n",
       "      <td>0</td>\n",
       "      <td>0</td>\n",
       "      <td>0</td>\n",
       "    </tr>\n",
       "    <tr>\n",
       "      <th>3</th>\n",
       "      <td>UFC Fight Night: Walker vs. Zhang</td>\n",
       "      <td>2025-08-23</td>\n",
       "      <td>Sumudaerji</td>\n",
       "      <td>Sumudaerji</td>\n",
       "      <td>Kevin Borjas</td>\n",
       "      <td>0-0</td>\n",
       "      <td>73-16</td>\n",
       "      <td>0-0</td>\n",
       "      <td>0-0</td>\n",
       "      <td>Flyweight</td>\n",
       "      <td>U-DEC</td>\n",
       "      <td>3</td>\n",
       "      <td>5:00</td>\n",
       "      <td>73</td>\n",
       "      <td>16</td>\n",
       "      <td>0</td>\n",
       "      <td>0</td>\n",
       "      <td>0</td>\n",
       "      <td>0</td>\n",
       "      <td>0</td>\n",
       "      <td>0</td>\n",
       "    </tr>\n",
       "    <tr>\n",
       "      <th>4</th>\n",
       "      <td>UFC Fight Night: Walker vs. Zhang</td>\n",
       "      <td>2025-08-23</td>\n",
       "      <td>Taiyilake Nueraji</td>\n",
       "      <td>Taiyilake Nueraji</td>\n",
       "      <td>Kiefer Crosbie</td>\n",
       "      <td>0-0</td>\n",
       "      <td>27-2</td>\n",
       "      <td>1-0</td>\n",
       "      <td>0-0</td>\n",
       "      <td>Welterweight</td>\n",
       "      <td>KO/TKO-Elbows</td>\n",
       "      <td>1</td>\n",
       "      <td>3:33</td>\n",
       "      <td>27</td>\n",
       "      <td>2</td>\n",
       "      <td>1</td>\n",
       "      <td>0</td>\n",
       "      <td>0</td>\n",
       "      <td>0</td>\n",
       "      <td>0</td>\n",
       "      <td>0</td>\n",
       "    </tr>\n",
       "  </tbody>\n",
       "</table>\n",
       "</div>"
      ],
      "text/plain": [
       "                          Event Name Event Date             Result             Winner                Loser Knockdowns  \\\n",
       "0  UFC Fight Night: Walker vs. Zhang 2025-08-23      Johnny Walker      Johnny Walker       Zhang Mingyang        1-0   \n",
       "1  UFC Fight Night: Walker vs. Zhang 2025-08-23  Aljamain Sterling  Aljamain Sterling         Brian Ortega        0-0   \n",
       "2  UFC Fight Night: Walker vs. Zhang 2025-08-23   Sergei Pavlovich   Sergei Pavlovich  Waldo Cortes-Acosta        0-0   \n",
       "3  UFC Fight Night: Walker vs. Zhang 2025-08-23         Sumudaerji         Sumudaerji         Kevin Borjas        0-0   \n",
       "4  UFC Fight Night: Walker vs. Zhang 2025-08-23  Taiyilake Nueraji  Taiyilake Nueraji       Kiefer Crosbie        0-0   \n",
       "\n",
       "  Strikes   TD  Sub       Weight Class          Method  Round  Time  Winner Sig Strikes  Loser Sig Strikes  \\\n",
       "0   50-20  0-0  0-0  Light Heavyweight  KO/TKO-Punches      2  2:37                  50                 20   \n",
       "1  124-55  3-0  0-0       Catch Weight           U-DEC      5  5:00                 124                 55   \n",
       "2   61-45  0-0  0-0        Heavyweight           U-DEC      3  5:00                  61                 45   \n",
       "3   73-16  0-0  0-0          Flyweight           U-DEC      3  5:00                  73                 16   \n",
       "4    27-2  1-0  0-0       Welterweight   KO/TKO-Elbows      1  3:33                  27                  2   \n",
       "\n",
       "   Winner Takedowns Landed  Loser Takedowns Landed  Winner Submission Attempts  Loser Submission Attempts  \\\n",
       "0                        0                       0                           0                          0   \n",
       "1                        3                       0                           0                          0   \n",
       "2                        0                       0                           0                          0   \n",
       "3                        0                       0                           0                          0   \n",
       "4                        1                       0                           0                          0   \n",
       "\n",
       "   Winner Knockdowns  Loser Knockdowns  \n",
       "0                  1                 0  \n",
       "1                  0                 0  \n",
       "2                  0                 0  \n",
       "3                  0                 0  \n",
       "4                  0                 0  "
      ]
     },
     "execution_count": 166,
     "metadata": {},
     "output_type": "execute_result"
    }
   ],
   "source": [
    "event_df.head()"
   ]
  },
  {
   "cell_type": "code",
   "execution_count": 167,
   "id": "bb25ae17",
   "metadata": {},
   "outputs": [
    {
     "data": {
      "application/vnd.microsoft.datawrangler.viewer.v0+json": {
       "columns": [
        {
         "name": "index",
         "rawType": "int64",
         "type": "integer"
        },
        {
         "name": "Event Name",
         "rawType": "object",
         "type": "string"
        },
        {
         "name": "Winner",
         "rawType": "object",
         "type": "string"
        },
        {
         "name": "Loser",
         "rawType": "object",
         "type": "string"
        },
        {
         "name": "Weight Class",
         "rawType": "object",
         "type": "string"
        },
        {
         "name": "Method",
         "rawType": "object",
         "type": "string"
        },
        {
         "name": "Round",
         "rawType": "int64",
         "type": "integer"
        },
        {
         "name": "Winner Sig Strikes",
         "rawType": "int64",
         "type": "integer"
        },
        {
         "name": "Loser Sig Strikes",
         "rawType": "int64",
         "type": "integer"
        },
        {
         "name": "Winner Takedowns Landed",
         "rawType": "int64",
         "type": "integer"
        },
        {
         "name": "Loser Takedowns Landed",
         "rawType": "int64",
         "type": "integer"
        },
        {
         "name": "Winner Submission Attempts",
         "rawType": "int64",
         "type": "integer"
        },
        {
         "name": "Loser Submission Attempts",
         "rawType": "int64",
         "type": "integer"
        },
        {
         "name": "Winner Knockdowns",
         "rawType": "int64",
         "type": "integer"
        },
        {
         "name": "Loser Knockdowns",
         "rawType": "int64",
         "type": "integer"
        }
       ],
       "ref": "417a2682-6146-4736-aa6c-cee27744b48d",
       "rows": [
        [
         "1",
         "UFC Fight Night: Walker vs. Zhang",
         "Aljamain Sterling",
         "Brian Ortega",
         "Catch Weight",
         "U-DEC",
         "5",
         "124",
         "55",
         "3",
         "0",
         "0",
         "0",
         "0",
         "0"
        ],
        [
         "2",
         "UFC Fight Night: Walker vs. Zhang",
         "Sergei Pavlovich",
         "Waldo Cortes-Acosta",
         "Heavyweight",
         "U-DEC",
         "3",
         "61",
         "45",
         "0",
         "0",
         "0",
         "0",
         "0",
         "0"
        ],
        [
         "3",
         "UFC Fight Night: Walker vs. Zhang",
         "Sumudaerji",
         "Kevin Borjas",
         "Flyweight",
         "U-DEC",
         "3",
         "73",
         "16",
         "0",
         "0",
         "0",
         "0",
         "0",
         "0"
        ],
        [
         "5",
         "UFC Fight Night: Walker vs. Zhang",
         "Gauge Young",
         "Maheshate",
         "Lightweight",
         "U-DEC",
         "3",
         "112",
         "66",
         "3",
         "0",
         "0",
         "0",
         "0",
         "0"
        ],
        [
         "7",
         "UFC Fight Night: Walker vs. Zhang",
         "Rongzhu",
         "Austin Hubbard",
         "Lightweight",
         "U-DEC",
         "3",
         "101",
         "75",
         "0",
         "2",
         "0",
         "0",
         "0",
         "0"
        ]
       ],
       "shape": {
        "columns": 14,
        "rows": 5
       }
      },
      "text/html": [
       "<div>\n",
       "<style scoped>\n",
       "    .dataframe tbody tr th:only-of-type {\n",
       "        vertical-align: middle;\n",
       "    }\n",
       "\n",
       "    .dataframe tbody tr th {\n",
       "        vertical-align: top;\n",
       "    }\n",
       "\n",
       "    .dataframe thead th {\n",
       "        text-align: right;\n",
       "    }\n",
       "</style>\n",
       "<table border=\"1\" class=\"dataframe\">\n",
       "  <thead>\n",
       "    <tr style=\"text-align: right;\">\n",
       "      <th></th>\n",
       "      <th>Event Name</th>\n",
       "      <th>Winner</th>\n",
       "      <th>Loser</th>\n",
       "      <th>Weight Class</th>\n",
       "      <th>Method</th>\n",
       "      <th>Round</th>\n",
       "      <th>Winner Sig Strikes</th>\n",
       "      <th>Loser Sig Strikes</th>\n",
       "      <th>Winner Takedowns Landed</th>\n",
       "      <th>Loser Takedowns Landed</th>\n",
       "      <th>Winner Submission Attempts</th>\n",
       "      <th>Loser Submission Attempts</th>\n",
       "      <th>Winner Knockdowns</th>\n",
       "      <th>Loser Knockdowns</th>\n",
       "    </tr>\n",
       "  </thead>\n",
       "  <tbody>\n",
       "    <tr>\n",
       "      <th>1</th>\n",
       "      <td>UFC Fight Night: Walker vs. Zhang</td>\n",
       "      <td>Aljamain Sterling</td>\n",
       "      <td>Brian Ortega</td>\n",
       "      <td>Catch Weight</td>\n",
       "      <td>U-DEC</td>\n",
       "      <td>5</td>\n",
       "      <td>124</td>\n",
       "      <td>55</td>\n",
       "      <td>3</td>\n",
       "      <td>0</td>\n",
       "      <td>0</td>\n",
       "      <td>0</td>\n",
       "      <td>0</td>\n",
       "      <td>0</td>\n",
       "    </tr>\n",
       "    <tr>\n",
       "      <th>2</th>\n",
       "      <td>UFC Fight Night: Walker vs. Zhang</td>\n",
       "      <td>Sergei Pavlovich</td>\n",
       "      <td>Waldo Cortes-Acosta</td>\n",
       "      <td>Heavyweight</td>\n",
       "      <td>U-DEC</td>\n",
       "      <td>3</td>\n",
       "      <td>61</td>\n",
       "      <td>45</td>\n",
       "      <td>0</td>\n",
       "      <td>0</td>\n",
       "      <td>0</td>\n",
       "      <td>0</td>\n",
       "      <td>0</td>\n",
       "      <td>0</td>\n",
       "    </tr>\n",
       "    <tr>\n",
       "      <th>3</th>\n",
       "      <td>UFC Fight Night: Walker vs. Zhang</td>\n",
       "      <td>Sumudaerji</td>\n",
       "      <td>Kevin Borjas</td>\n",
       "      <td>Flyweight</td>\n",
       "      <td>U-DEC</td>\n",
       "      <td>3</td>\n",
       "      <td>73</td>\n",
       "      <td>16</td>\n",
       "      <td>0</td>\n",
       "      <td>0</td>\n",
       "      <td>0</td>\n",
       "      <td>0</td>\n",
       "      <td>0</td>\n",
       "      <td>0</td>\n",
       "    </tr>\n",
       "    <tr>\n",
       "      <th>5</th>\n",
       "      <td>UFC Fight Night: Walker vs. Zhang</td>\n",
       "      <td>Gauge Young</td>\n",
       "      <td>Maheshate</td>\n",
       "      <td>Lightweight</td>\n",
       "      <td>U-DEC</td>\n",
       "      <td>3</td>\n",
       "      <td>112</td>\n",
       "      <td>66</td>\n",
       "      <td>3</td>\n",
       "      <td>0</td>\n",
       "      <td>0</td>\n",
       "      <td>0</td>\n",
       "      <td>0</td>\n",
       "      <td>0</td>\n",
       "    </tr>\n",
       "    <tr>\n",
       "      <th>7</th>\n",
       "      <td>UFC Fight Night: Walker vs. Zhang</td>\n",
       "      <td>Rongzhu</td>\n",
       "      <td>Austin Hubbard</td>\n",
       "      <td>Lightweight</td>\n",
       "      <td>U-DEC</td>\n",
       "      <td>3</td>\n",
       "      <td>101</td>\n",
       "      <td>75</td>\n",
       "      <td>0</td>\n",
       "      <td>2</td>\n",
       "      <td>0</td>\n",
       "      <td>0</td>\n",
       "      <td>0</td>\n",
       "      <td>0</td>\n",
       "    </tr>\n",
       "  </tbody>\n",
       "</table>\n",
       "</div>"
      ],
      "text/plain": [
       "                          Event Name             Winner                Loser  Weight Class Method  Round  \\\n",
       "1  UFC Fight Night: Walker vs. Zhang  Aljamain Sterling         Brian Ortega  Catch Weight  U-DEC      5   \n",
       "2  UFC Fight Night: Walker vs. Zhang   Sergei Pavlovich  Waldo Cortes-Acosta   Heavyweight  U-DEC      3   \n",
       "3  UFC Fight Night: Walker vs. Zhang         Sumudaerji         Kevin Borjas     Flyweight  U-DEC      3   \n",
       "5  UFC Fight Night: Walker vs. Zhang        Gauge Young            Maheshate   Lightweight  U-DEC      3   \n",
       "7  UFC Fight Night: Walker vs. Zhang            Rongzhu       Austin Hubbard   Lightweight  U-DEC      3   \n",
       "\n",
       "   Winner Sig Strikes  Loser Sig Strikes  Winner Takedowns Landed  Loser Takedowns Landed  Winner Submission Attempts  \\\n",
       "1                 124                 55                        3                       0                           0   \n",
       "2                  61                 45                        0                       0                           0   \n",
       "3                  73                 16                        0                       0                           0   \n",
       "5                 112                 66                        3                       0                           0   \n",
       "7                 101                 75                        0                       2                           0   \n",
       "\n",
       "   Loser Submission Attempts  Winner Knockdowns  Loser Knockdowns  \n",
       "1                          0                  0                 0  \n",
       "2                          0                  0                 0  \n",
       "3                          0                  0                 0  \n",
       "5                          0                  0                 0  \n",
       "7                          0                  0                 0  "
      ]
     },
     "execution_count": 167,
     "metadata": {},
     "output_type": "execute_result"
    }
   ],
   "source": [
    "df_decisions = event_df[event_df['Method'] == ('U-DEC' or 'S-DEC')]\n",
    "df_decisions = df_decisions.drop(columns=[\n",
    "    'Event Date',\n",
    "    'Result',\n",
    "    'Time',\n",
    "    'Knockdowns',\n",
    "    'Strikes',\n",
    "    'TD',\n",
    "    'Sub'\n",
    "])\n",
    "\n",
    "df_decisions.head()"
   ]
  },
  {
   "cell_type": "code",
   "execution_count": 168,
   "id": "76e13bf8",
   "metadata": {},
   "outputs": [],
   "source": [
    "strike_differential = (df_decisions['Winner Sig Strikes'] - df_decisions['Loser Sig Strikes']) / df_decisions['Round']\n",
    "takedown_differential = (df_decisions['Winner Takedowns Landed'] - df_decisions['Loser Takedowns Landed']) / df_decisions['Round']\n",
    "sub_differential = (df_decisions['Winner Submission Attempts'] - df_decisions['Loser Submission Attempts']) / df_decisions['Round']\n",
    "kd_differential = (df_decisions['Winner Knockdowns'] - df_decisions['Loser Knockdowns']) / df_decisions['Round']"
   ]
  },
  {
   "cell_type": "code",
   "execution_count": 169,
   "id": "8a02d74c",
   "metadata": {},
   "outputs": [
    {
     "data": {
      "image/png": "[encoded data removed]",
      "text/plain": [
       "<Figure size 1200x1000 with 4 Axes>"
      ]
     },
     "metadata": {},
     "output_type": "display_data"
    }
   ],
   "source": [
    "fig, ax = plt.subplots(2, 2, figsize=(12, 10))\n",
    "fig.suptitle('Winning a round in UFC')\n",
    "\n",
    "differentials = [\n",
    "    (strike_differential, 'Strike Differential'),\n",
    "    (takedown_differential, 'Takedown Differential'),\n",
    "    (sub_differential, 'Submission Differential'),\n",
    "    (kd_differential, 'Knockdown Differential')\n",
    "]\n",
    "\n",
    "axes = ax.flatten()\n",
    "\n",
    "for idx, (diff_series, title) in enumerate(differentials):\n",
    "    min_val = diff_series.min()\n",
    "    median_val = diff_series.median()\n",
    "    max_val = diff_series.max()\n",
    "    mean_val = diff_series.mean()\n",
    "    \n",
    "    bars = axes[idx].bar(\n",
    "        ['Min', 'Median', 'Max', 'Mean'], \n",
    "        [min_val, median_val, max_val, mean_val],\n",
    "    )\n",
    "    \n",
    "    for bar in bars:\n",
    "        height = bar.get_height()\n",
    "        axes[idx].text(\n",
    "            bar.get_x() + bar.get_width()/2, \n",
    "            height,\n",
    "            f'{height:.2f}',\n",
    "            ha='center', \n",
    "            va='bottom'\n",
    "        )\n",
    "    \n",
    "    axes[idx].set_title(title)\n",
    "    axes[idx].set_ylabel('Difference')\n",
    "\n",
    "plt.tight_layout()\n",
    "plt.show()"
   ]
  },
  {
   "cell_type": "markdown",
   "id": "b85ef6b4",
   "metadata": {},
   "source": [
    "Therefore it seems like the most likely way to win a fight by decision (meaning the fight takes a while to determine the winner), is to land around 6-7 more strikes than your opponent in a single round (5 min in UFC). Takedowns also matter slightly, however the mean is  0.33 takedowns per round which means an average of 1 takedown in a 3 round fight. Knockdowns and submissions attempts per round seem to not matter, most likely since submissions and knockdowns are associated with a fight ending."
   ]
  }
 ],
 "metadata": {
  "kernelspec": {
   "display_name": "Python 3",
   "language": "python",
   "name": "python3"
  },
  "language_info": {
   "codemirror_mode": {
    "name": "ipython",
    "version": 3
   },
   "file_extension": ".py",
   "mimetype": "text/x-python",
   "name": "python",
   "nbconvert_exporter": "python",
   "pygments_lexer": "ipython3",
   "version": "3.13.5"
  }
 },
 "nbformat": 4,
 "nbformat_minor": 5
}
